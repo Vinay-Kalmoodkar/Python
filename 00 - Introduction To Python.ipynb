{
 "cells": [
  {
   "cell_type": "markdown",
   "metadata": {},
   "source": [
    "# Introduction To Python\n",
    "* It was created by **Guido van Rossum**, and released in 1991.\n",
    "* **Python** is a High Level, Interpreted and Object Oriented programming language. "
   ]
  },
  {
   "cell_type": "markdown",
   "metadata": {},
   "source": [
    "## What is a Programming Language?\n",
    "* It is a set of instructions given to computer to get the desired output.\n",
    "\n",
    "* Programming languages can be broadly classified as 2 types:\n",
    "    1. **High Level programming language.**\n",
    "    2. **Low Level programming language.**\n",
    "    \n",
    "### 1) High Level programming language\n",
    "* It is programmer friendly language.\n",
    "* It can be easily understood by the programmer.\n",
    "* It is simple to debug.\n",
    "* It is simple to maintain.\n",
    "* It needs compiler or interpreter for translation\n",
    "\n",
    "### 2) Low Level programming language\n",
    "* It is a machine friendly language (instructions will be in the form of 0s and 1s).\n",
    "* It is tough to understand by the programmer but it can be easily understood by the computers.\n",
    "* It is complex to debug comparatively.\n",
    "* It is complex to maintain comparatively."
   ]
  },
  {
   "cell_type": "markdown",
   "metadata": {},
   "source": [
    "## How python executes?"
   ]
  },
  {
   "cell_type": "markdown",
   "metadata": {},
   "source": [
    "![title](img/img2.png)"
   ]
  },
  {
   "cell_type": "code",
   "execution_count": null,
   "metadata": {},
   "outputs": [],
   "source": []
  },
  {
   "cell_type": "markdown",
   "metadata": {},
   "source": [
    "![title](img/img1.png)"
   ]
  },
  {
   "cell_type": "code",
   "execution_count": null,
   "metadata": {},
   "outputs": [],
   "source": []
  },
  {
   "cell_type": "markdown",
   "metadata": {},
   "source": [
    "## What can Python do?\n",
    "* Python can be used to create web applications.\n",
    "* Python can be used alongside software to create workflows.\n",
    "* Python can connect to database systems.\n",
    "* Python can also read and modify files.\n",
    "* Python can be used to handle big data and perform complex mathematics."
   ]
  },
  {
   "cell_type": "markdown",
   "metadata": {},
   "source": [
    "## Why Python?\n",
    "* Python works on different platforms (Windows, Mac, Linux, Raspberry Pi, etc).\n",
    "* Python has a **simple syntax** similar to the English language.\n",
    "* Python has syntax that allows developers to write programs with fewer lines than some other programming languages.\n",
    "* Abundance of libraries and frameworks that facilitate coding and save development time.\n",
    "* It also boasts a **large and active community** of developers willing to provide advice and assistance through all stages of the development process."
   ]
  }
 ],
 "metadata": {
  "kernelspec": {
   "display_name": "Python 3",
   "language": "python",
   "name": "python3"
  },
  "language_info": {
   "codemirror_mode": {
    "name": "ipython",
    "version": 3
   },
   "file_extension": ".py",
   "mimetype": "text/x-python",
   "name": "python",
   "nbconvert_exporter": "python",
   "pygments_lexer": "ipython3",
   "version": "3.7.6"
  }
 },
 "nbformat": 4,
 "nbformat_minor": 2
}
