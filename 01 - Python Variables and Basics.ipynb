{
 "cells": [
  {
   "cell_type": "markdown",
   "metadata": {},
   "source": [
    "## Python Variables\n",
    "* Variables are containers for storing data values\n",
    "* A variable is created the moment you first assign a value to it.\n",
    "* Unlike other programming languages,you dont have to declare the type of variable"
   ]
  },
  {
   "cell_type": "code",
   "execution_count": 1,
   "metadata": {},
   "outputs": [
    {
     "name": "stdout",
     "output_type": "stream",
     "text": [
      "5\n",
      "John\n"
     ]
    }
   ],
   "source": [
    "# Ex1)\n",
    "x = 5\n",
    "y = \"John\"\n",
    "\n",
    "print(x)\n",
    "print(y)"
   ]
  },
  {
   "cell_type": "code",
   "execution_count": 2,
   "metadata": {},
   "outputs": [
    {
     "name": "stdout",
     "output_type": "stream",
     "text": [
      "5\n",
      "john\n"
     ]
    }
   ],
   "source": [
    "# Ex2)\n",
    "# In Python, there is no need to declare the type of variable .i.e,\n",
    "# same varible can be used to hold different data types\n",
    "x = 5\n",
    "print(x)\n",
    "x = 'john'\n",
    "print(x)"
   ]
  },
  {
   "cell_type": "markdown",
   "metadata": {},
   "source": [
    "### Convention for naming variables"
   ]
  },
  {
   "cell_type": "markdown",
   "metadata": {},
   "source": [
    "* A variable name can only contain alpha-numeric characters and underscores (A-z, 0-9, and _ )\n",
    "* A variable name must start with a letter or the underscore character\n",
    "* A variable name cannot start with a number"
   ]
  },
  {
   "cell_type": "code",
   "execution_count": 3,
   "metadata": {},
   "outputs": [
    {
     "name": "stdout",
     "output_type": "stream",
     "text": [
      "25 30 35\n"
     ]
    }
   ],
   "source": [
    "# Ex 3)\n",
    "# Variable names are case-sensitive (age, Age and AGE are three different variables)\n",
    "age = 25\n",
    "# print(age)\n",
    "Age = 30\n",
    "# print(age)\n",
    "AGE = 35\n",
    "print(age,Age,AGE)"
   ]
  },
  {
   "cell_type": "markdown",
   "metadata": {},
   "source": [
    "* Examples of legal and illegal variable names"
   ]
  },
  {
   "cell_type": "code",
   "execution_count": null,
   "metadata": {},
   "outputs": [],
   "source": [
    "#Legal variable names:\n",
    "myvar = \"Python\"\n",
    "my_var = \"Python\"\n",
    "_my_var = \"Python\"\n",
    "myVar = \"Python\"\n",
    "MYVAR = \"Python\"\n",
    "myvar2 = \"Python\"\n",
    "\n",
    "#Illegal variable names:\n",
    "2myvar = \"Python\"  # starting with number\n",
    "my-var = \"Python\"  # hyphen is not allowed \n",
    "my var = \"Python\"  # space in between is not allowed"
   ]
  },
  {
   "cell_type": "markdown",
   "metadata": {},
   "source": [
    "## Python print() Function\n",
    "* The print() function prints the specified message to the screen\n",
    "* The message can be a string, or any other object, the object will be converted into a string before written to the screen."
   ]
  },
  {
   "cell_type": "code",
   "execution_count": 4,
   "metadata": {},
   "outputs": [
    {
     "name": "stdout",
     "output_type": "stream",
     "text": [
      "Hello world\n"
     ]
    }
   ],
   "source": [
    "# Ex1)\n",
    "print(\"Hello world\")"
   ]
  },
  {
   "cell_type": "code",
   "execution_count": 5,
   "metadata": {},
   "outputs": [
    {
     "name": "stdout",
     "output_type": "stream",
     "text": [
      "Welcome to python\n"
     ]
    }
   ],
   "source": [
    "# Ex2)\n",
    "print(\"Welcome to python\")"
   ]
  },
  {
   "cell_type": "code",
   "execution_count": 6,
   "metadata": {},
   "outputs": [
    {
     "name": "stdout",
     "output_type": "stream",
     "text": [
      "Hello world\n"
     ]
    }
   ],
   "source": [
    "# Ex3)\n",
    "a = \"Hello world\"\n",
    "print(a)"
   ]
  },
  {
   "cell_type": "code",
   "execution_count": 7,
   "metadata": {},
   "outputs": [
    {
     "name": "stdout",
     "output_type": "stream",
     "text": [
      "Arun\n",
      "Balaji\n"
     ]
    }
   ],
   "source": [
    "# Ex4)\n",
    "first_name = 'Arun'\n",
    "last_name = 'Balaji'\n",
    "\n",
    "print(first_name)\n",
    "print(last_name)"
   ]
  },
  {
   "cell_type": "code",
   "execution_count": null,
   "metadata": {},
   "outputs": [],
   "source": [
    "# desired output is:\n",
    "# Arun-Balaji\n",
    "# by using 2 print() functions"
   ]
  },
  {
   "cell_type": "code",
   "execution_count": 8,
   "metadata": {},
   "outputs": [
    {
     "name": "stdout",
     "output_type": "stream",
     "text": [
      "Arun-Balaji\n"
     ]
    }
   ],
   "source": [
    "# Ex5)\n",
    "# You can specify the end parameter\n",
    "print(first_name,end = '-')\n",
    "print(last_name)"
   ]
  },
  {
   "cell_type": "code",
   "execution_count": 9,
   "metadata": {},
   "outputs": [
    {
     "name": "stdout",
     "output_type": "stream",
     "text": [
      "I have an Apple\n"
     ]
    }
   ],
   "source": [
    "# Ex6)\n",
    "fruit = 'Apple'\n",
    "print(\"I have an \"+fruit)"
   ]
  },
  {
   "cell_type": "code",
   "execution_count": 10,
   "metadata": {},
   "outputs": [
    {
     "name": "stdout",
     "output_type": "stream",
     "text": [
      "I have 2 fruits, one is Apple other one is Banana\n"
     ]
    }
   ],
   "source": [
    "# Ex7)\n",
    "fruit1 = 'Apple'\n",
    "fruit2 = 'Banana'\n",
    "print('I have 2 fruits, one is '+ fruit1+\" other one is \"+fruit2)"
   ]
  },
  {
   "cell_type": "code",
   "execution_count": 12,
   "metadata": {},
   "outputs": [
    {
     "name": "stdout",
     "output_type": "stream",
     "text": [
      " I have 2 fruits, one is Apple other one is Banana\n"
     ]
    }
   ],
   "source": [
    "# Ex8) print format()\n",
    "print(\" I have 2 fruits, one is {} other one is {}\".format(fruit1,fruit2))"
   ]
  },
  {
   "cell_type": "code",
   "execution_count": 13,
   "metadata": {},
   "outputs": [
    {
     "name": "stdout",
     "output_type": "stream",
     "text": [
      " I have 2 fruits, one is Banana other one is Apple\n"
     ]
    }
   ],
   "source": [
    "# Ex9) giving indexes in the placeholders\n",
    "print(\" I have 2 fruits, one is {1} other one is {0}\".format(fruit1,fruit2))"
   ]
  },
  {
   "cell_type": "markdown",
   "metadata": {},
   "source": [
    "## Python Comments\n",
    "* Comments can be used to explain Python code.\n",
    "\n",
    "* Comments can be used to make the code more readable.\n",
    "\n",
    "* Comments can be used to prevent execution when testing code."
   ]
  },
  {
   "cell_type": "markdown",
   "metadata": {},
   "source": [
    "'#' is used for single line comment. Python will ignore the lines starting with '#'"
   ]
  },
  {
   "cell_type": "code",
   "execution_count": 15,
   "metadata": {},
   "outputs": [
    {
     "name": "stdout",
     "output_type": "stream",
     "text": [
      "Hello world\n"
     ]
    }
   ],
   "source": [
    "#this is a comment\n",
    "print('Hello world')"
   ]
  },
  {
   "cell_type": "code",
   "execution_count": 16,
   "metadata": {},
   "outputs": [
    {
     "name": "stdout",
     "output_type": "stream",
     "text": [
      "Hello world\n"
     ]
    }
   ],
   "source": [
    "print('Hello world') #You can write comments here as well!"
   ]
  },
  {
   "cell_type": "code",
   "execution_count": 17,
   "metadata": {},
   "outputs": [
    {
     "name": "stdout",
     "output_type": "stream",
     "text": [
      "Hello world\n",
      "This is our first class\n"
     ]
    }
   ],
   "source": [
    "print('Hello world')\n",
    "# print('Welcome to python')\n",
    "print('This is our first class')"
   ]
  },
  {
   "cell_type": "code",
   "execution_count": 18,
   "metadata": {},
   "outputs": [
    {
     "name": "stdout",
     "output_type": "stream",
     "text": [
      "Hello-World\n"
     ]
    }
   ],
   "source": [
    "# i am a \n",
    "# multiline \n",
    "# comment \n",
    "# using '#' \n",
    "# at the beginning of\n",
    "# each line\n",
    "print('Hello-World')"
   ]
  },
  {
   "cell_type": "markdown",
   "metadata": {},
   "source": [
    "\"\"\"\n",
    " ....\n",
    "\"\"\"\n",
    "is used to comment multiple lines of code"
   ]
  },
  {
   "cell_type": "code",
   "execution_count": 19,
   "metadata": {},
   "outputs": [
    {
     "name": "stdout",
     "output_type": "stream",
     "text": [
      "Hello world\n"
     ]
    }
   ],
   "source": [
    "\"\"\"\n",
    "i am a \n",
    "multiline \n",
    "comment \n",
    "using '#' \n",
    "at the beginning of\n",
    "each line\n",
    "\"\"\"\n",
    "print('Hello world')"
   ]
  },
  {
   "cell_type": "code",
   "execution_count": 20,
   "metadata": {},
   "outputs": [
    {
     "name": "stdout",
     "output_type": "stream",
     "text": [
      "Hello world\n"
     ]
    }
   ],
   "source": [
    "'''\n",
    "i am a \n",
    "multiline \n",
    "comment \n",
    "using '#' \n",
    "at the beginning of\n",
    "each line\n",
    "'''\n",
    "print('Hello world')"
   ]
  },
  {
   "cell_type": "markdown",
   "metadata": {},
   "source": [
    "## input()\n",
    "* The input() function allows us to take input from the user."
   ]
  },
  {
   "cell_type": "code",
   "execution_count": 21,
   "metadata": {},
   "outputs": [
    {
     "name": "stdout",
     "output_type": "stream",
     "text": [
      "Enter your name : Arun\n",
      "hello Arun\n"
     ]
    }
   ],
   "source": [
    "# Ex1) ask name from the user\n",
    "name = input(\"Enter your name : \")\n",
    "print(\"hello \"+name)"
   ]
  },
  {
   "cell_type": "code",
   "execution_count": 22,
   "metadata": {},
   "outputs": [
    {
     "name": "stdout",
     "output_type": "stream",
     "text": [
      "enter the first number : 5\n",
      "enter the second number : 6\n",
      "56\n"
     ]
    }
   ],
   "source": [
    "# Ex2) take two inputs(numbers) from user and add the numbers\n",
    "num1 = input(\"enter the first number : \")\n",
    "num2 = input(\"enter the second number : \")\n",
    "num3 = num1 + num2 \n",
    "print(num3)"
   ]
  },
  {
   "cell_type": "markdown",
   "metadata": {},
   "source": [
    "#### remember, whatever value user inputs is converted to string by default"
   ]
  },
  {
   "cell_type": "code",
   "execution_count": 23,
   "metadata": {},
   "outputs": [
    {
     "name": "stdout",
     "output_type": "stream",
     "text": [
      "type of num1 = <class 'str'> and num2 = <class 'str'> \n"
     ]
    }
   ],
   "source": [
    "# check the type\n",
    "print(\"type of num1 = {} and num2 = {} \".format(type(num1),type(num2)))\n",
    "\n",
    "# convert to int\n",
    "num1 = int(num1)\n",
    "num2 = int(num2)"
   ]
  },
  {
   "cell_type": "code",
   "execution_count": 24,
   "metadata": {},
   "outputs": [
    {
     "name": "stdout",
     "output_type": "stream",
     "text": [
      "11\n"
     ]
    }
   ],
   "source": [
    "# add and print\n",
    "num3 = num1 + num2 \n",
    "print(num3)"
   ]
  },
  {
   "cell_type": "code",
   "execution_count": null,
   "metadata": {},
   "outputs": [],
   "source": []
  }
 ],
 "metadata": {
  "kernelspec": {
   "display_name": "Python 3",
   "language": "python",
   "name": "python3"
  },
  "language_info": {
   "codemirror_mode": {
    "name": "ipython",
    "version": 3
   },
   "file_extension": ".py",
   "mimetype": "text/x-python",
   "name": "python",
   "nbconvert_exporter": "python",
   "pygments_lexer": "ipython3",
   "version": "3.7.6"
  }
 },
 "nbformat": 4,
 "nbformat_minor": 2
}
