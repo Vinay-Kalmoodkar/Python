{
 "cells": [
  {
   "cell_type": "markdown",
   "metadata": {},
   "source": [
    "## if condition"
   ]
  },
  {
   "cell_type": "code",
   "execution_count": null,
   "metadata": {},
   "outputs": [],
   "source": [
    "\"\"\"\n",
    "syntax of if\n",
    "\n",
    "if(condition/s):\n",
    "    statement1\n",
    "    statement2\n",
    "    ..........\n",
    "\"\"\""
   ]
  },
  {
   "cell_type": "code",
   "execution_count": 1,
   "metadata": {},
   "outputs": [
    {
     "name": "stdout",
     "output_type": "stream",
     "text": [
      "Both the numbers are same\n"
     ]
    }
   ],
   "source": [
    "#Ex1)\n",
    "num1 = 10\n",
    "num2 = 10\n",
    "\n",
    "if(num1 == num2):\n",
    "    print(\"Both the numbers are same\")"
   ]
  },
  {
   "cell_type": "code",
   "execution_count": 2,
   "metadata": {},
   "outputs": [
    {
     "name": "stdout",
     "output_type": "stream",
     "text": [
      "Numbers are diff\n"
     ]
    }
   ],
   "source": [
    "#Ex2)\n",
    "num1 = 11\n",
    "num2 = 10\n",
    "if(num1 != num2):\n",
    "    print(\"Numbers are diff\")"
   ]
  },
  {
   "cell_type": "markdown",
   "metadata": {},
   "source": [
    "## Indentation\n",
    "whitespace at the beginning of a line"
   ]
  },
  {
   "cell_type": "code",
   "execution_count": 3,
   "metadata": {},
   "outputs": [
    {
     "ename": "IndentationError",
     "evalue": "expected an indented block (<ipython-input-3-acbc0b46bff6>, line 3)",
     "output_type": "error",
     "traceback": [
      "\u001b[1;36m  File \u001b[1;32m\"<ipython-input-3-acbc0b46bff6>\"\u001b[1;36m, line \u001b[1;32m3\u001b[0m\n\u001b[1;33m    print(\"A\") #ERROR\u001b[0m\n\u001b[1;37m        ^\u001b[0m\n\u001b[1;31mIndentationError\u001b[0m\u001b[1;31m:\u001b[0m expected an indented block\n"
     ]
    }
   ],
   "source": [
    "#Ex1)\n",
    "if(4>2):\n",
    "print(\"A\") #ERROR"
   ]
  },
  {
   "cell_type": "code",
   "execution_count": 4,
   "metadata": {},
   "outputs": [
    {
     "ename": "IndentationError",
     "evalue": "unexpected indent (<ipython-input-4-7e651452fc72>, line 4)",
     "output_type": "error",
     "traceback": [
      "\u001b[1;36m  File \u001b[1;32m\"<ipython-input-4-7e651452fc72>\"\u001b[1;36m, line \u001b[1;32m4\u001b[0m\n\u001b[1;33m    print(\"B\") #Error\u001b[0m\n\u001b[1;37m    ^\u001b[0m\n\u001b[1;31mIndentationError\u001b[0m\u001b[1;31m:\u001b[0m unexpected indent\n"
     ]
    }
   ],
   "source": [
    "#Ex2)\n",
    "if(4>2):\n",
    "    print(\"A\")\n",
    "        print(\"B\") #Error"
   ]
  },
  {
   "cell_type": "code",
   "execution_count": 6,
   "metadata": {},
   "outputs": [
    {
     "ename": "IndentationError",
     "evalue": "unindent does not match any outer indentation level (<tokenize>, line 4)",
     "output_type": "error",
     "traceback": [
      "\u001b[1;36m  File \u001b[1;32m\"<tokenize>\"\u001b[1;36m, line \u001b[1;32m4\u001b[0m\n\u001b[1;33m    print(\"B\") #Error\u001b[0m\n\u001b[1;37m    ^\u001b[0m\n\u001b[1;31mIndentationError\u001b[0m\u001b[1;31m:\u001b[0m unindent does not match any outer indentation level\n"
     ]
    }
   ],
   "source": [
    "#Ex3)\n",
    "if(4>2):\n",
    "        print(\"A\")\n",
    "    print(\"B\") #Error"
   ]
  },
  {
   "cell_type": "code",
   "execution_count": 7,
   "metadata": {},
   "outputs": [
    {
     "name": "stdout",
     "output_type": "stream",
     "text": [
      "A\n",
      "B\n",
      "C\n"
     ]
    }
   ],
   "source": [
    "#Ex4)\n",
    "if(4>2):\n",
    "        print(\"A\")\n",
    "        print(\"B\") #Valid\n",
    "        print(\"C\") #Valid"
   ]
  },
  {
   "cell_type": "markdown",
   "metadata": {},
   "source": [
    "## if.. else.."
   ]
  },
  {
   "cell_type": "code",
   "execution_count": null,
   "metadata": {},
   "outputs": [],
   "source": [
    "\"\"\"\n",
    "syntax of if else\n",
    "\n",
    "if(condition/s):\n",
    "    statement1\n",
    "    statement2\n",
    "    ..........\n",
    "else:\n",
    "    statement1\n",
    "    statement2\n",
    "    ..........\n",
    "\"\"\""
   ]
  },
  {
   "cell_type": "code",
   "execution_count": 8,
   "metadata": {},
   "outputs": [
    {
     "name": "stdout",
     "output_type": "stream",
     "text": [
      "Not equal\n"
     ]
    }
   ],
   "source": [
    "#Ex1) \n",
    "num1 = 10\n",
    "num2 = 5\n",
    "\n",
    "if(num1 == num2):\n",
    "    print(\"equal\")\n",
    "else:\n",
    "    print(\"Not equal\")"
   ]
  },
  {
   "cell_type": "code",
   "execution_count": 9,
   "metadata": {},
   "outputs": [
    {
     "name": "stdout",
     "output_type": "stream",
     "text": [
      "num1 is greater than num2\n"
     ]
    }
   ],
   "source": [
    "#Ex2)\n",
    "if(num1<num2):\n",
    "    print(\"num1 is less than num2\")\n",
    "else:\n",
    "    print(\"num1 is greater than num2\")"
   ]
  },
  {
   "cell_type": "markdown",
   "metadata": {},
   "source": [
    "## if .. elif .. else"
   ]
  },
  {
   "cell_type": "code",
   "execution_count": null,
   "metadata": {},
   "outputs": [],
   "source": [
    "\"\"\"\n",
    "syntax of if else\n",
    "\n",
    "if(condition/s):\n",
    "    statement1\n",
    "    statement2\n",
    "    ..........\n",
    "elif(condition/s):\n",
    "    statement1\n",
    "    statement2\n",
    "    ..........\n",
    "else:\n",
    "    statement1\n",
    "    statement2\n",
    "    ..........\n",
    "\"\"\""
   ]
  },
  {
   "cell_type": "code",
   "execution_count": 10,
   "metadata": {},
   "outputs": [
    {
     "name": "stdout",
     "output_type": "stream",
     "text": [
      "Equal\n"
     ]
    }
   ],
   "source": [
    "#Ex1)\n",
    "num1 = 10\n",
    "num2 = 10\n",
    "\n",
    "if(num1 == num2):\n",
    "    print(\"Equal\")\n",
    "elif(num1>num2):\n",
    "    print('num1 is greater than num2')\n",
    "    \n",
    "else:\n",
    "    print('num1 is less than num2')\n"
   ]
  },
  {
   "cell_type": "markdown",
   "metadata": {},
   "source": [
    "## Multiple conditions\n",
    "by using or & and operators"
   ]
  },
  {
   "cell_type": "code",
   "execution_count": 11,
   "metadata": {},
   "outputs": [
    {
     "name": "stdout",
     "output_type": "stream",
     "text": [
      "Satisfied\n"
     ]
    }
   ],
   "source": [
    "#Ex1) or\n",
    "num1 =7\n",
    "# it should be positive\n",
    "# or it should be divisible by 2\n",
    "# or it should be divisible by 3\n",
    "\n",
    "if(num1>0 or num1%2 == 0 or num1%3 == 0):\n",
    "    print(\"Satisfied\")\n",
    "else:\n",
    "    print(\"Not satisfied\")"
   ]
  },
  {
   "cell_type": "code",
   "execution_count": 12,
   "metadata": {},
   "outputs": [
    {
     "name": "stdout",
     "output_type": "stream",
     "text": [
      "Satisfied\n"
     ]
    }
   ],
   "source": [
    "#Ex2) and\n",
    "num1 = 6\n",
    "if(num1>0 and num1%2 == 0 and num1%3 == 0):\n",
    "    print(\"Satisfied\")\n",
    "else:\n",
    "    print(\"Not satisfied\")\n"
   ]
  },
  {
   "cell_type": "markdown",
   "metadata": {},
   "source": [
    "## Nested if else"
   ]
  },
  {
   "cell_type": "code",
   "execution_count": 13,
   "metadata": {},
   "outputs": [
    {
     "name": "stdout",
     "output_type": "stream",
     "text": [
      "positive number\n",
      "Divisible by 3\n"
     ]
    }
   ],
   "source": [
    "#Ex1)\n",
    "num1 = 3\n",
    "if(num1>0):\n",
    "    print(\"positive number\")\n",
    "    if(num1%2 == 0):\n",
    "        print(\"Divisible by 2\")\n",
    "    elif(num1%3 == 0):\n",
    "        print(\"Divisible by 3\")\n",
    "    else:\n",
    "        print(\"Not divisible by 2 or 3\")\n",
    "else:\n",
    "    print(\"negative number\")"
   ]
  },
  {
   "cell_type": "code",
   "execution_count": null,
   "metadata": {},
   "outputs": [],
   "source": []
  },
  {
   "cell_type": "markdown",
   "metadata": {},
   "source": [
    "### Task9\n",
    "* Ask 2 numbers from users and store it in num1 and num2\n",
    "* Ask user to press 1 for addition,2 for subtraction,3 for multiplication and 4 for division\n",
    "* based on number given by user do the math operation"
   ]
  },
  {
   "cell_type": "code",
   "execution_count": null,
   "metadata": {},
   "outputs": [],
   "source": []
  }
 ],
 "metadata": {
  "kernelspec": {
   "display_name": "Python 3",
   "language": "python",
   "name": "python3"
  },
  "language_info": {
   "codemirror_mode": {
    "name": "ipython",
    "version": 3
   },
   "file_extension": ".py",
   "mimetype": "text/x-python",
   "name": "python",
   "nbconvert_exporter": "python",
   "pygments_lexer": "ipython3",
   "version": "3.7.6"
  }
 },
 "nbformat": 4,
 "nbformat_minor": 2
}
