{
 "cells": [
  {
   "cell_type": "markdown",
   "metadata": {},
   "source": [
    "#### Q1) Given a list print all the even numbers"
   ]
  },
  {
   "cell_type": "code",
   "execution_count": 1,
   "metadata": {},
   "outputs": [
    {
     "data": {
      "text/plain": [
       "[2, 34, 5, 6, 7, 8, 10, 23, 45]"
      ]
     },
     "execution_count": 1,
     "metadata": {},
     "output_type": "execute_result"
    }
   ],
   "source": [
    "#input\n",
    "list1 = [2,34,5,6,7,8,10,23,45]\n",
    "list1"
   ]
  },
  {
   "cell_type": "code",
   "execution_count": 2,
   "metadata": {},
   "outputs": [
    {
     "name": "stdout",
     "output_type": "stream",
     "text": [
      "2\n",
      "34\n",
      "6\n",
      "8\n",
      "10\n"
     ]
    }
   ],
   "source": [
    "#iterate for the list\n",
    "for num in list1:\n",
    "    #check if that num is even\n",
    "    if(num%2 == 0):\n",
    "        #print the numm\n",
    "        print(num)"
   ]
  },
  {
   "cell_type": "markdown",
   "metadata": {},
   "source": [
    "#### Q2) WAP Reverse a given string"
   ]
  },
  {
   "cell_type": "code",
   "execution_count": 3,
   "metadata": {},
   "outputs": [
    {
     "name": "stdout",
     "output_type": "stream",
     "text": [
      "Original string =  Python\n",
      "Reversed string =  nohtyP\n"
     ]
    }
   ],
   "source": [
    "str1 = \"Python\" \n",
    "print('Original string = ',str1)\n",
    "#empty string\n",
    "output = ''\n",
    "#loop from reverse\n",
    "for i in range(5,-1,-1):\n",
    "    #add that character to empty string\n",
    "    output = output+str1[i]     # ''+'n' = > 'n'\n",
    "     \n",
    "#print empty string  \n",
    "print('Reversed string = ',output)"
   ]
  },
  {
   "cell_type": "markdown",
   "metadata": {},
   "source": [
    "#### Q3) WAP to remove the whitespaces at the beginning and at the end of the strings"
   ]
  },
  {
   "cell_type": "code",
   "execution_count": 4,
   "metadata": {},
   "outputs": [],
   "source": [
    "#input \n",
    "str1 = '     hello     '\n",
    "#output \n",
    "# str2 = 'hello'"
   ]
  },
  {
   "cell_type": "code",
   "execution_count": 5,
   "metadata": {},
   "outputs": [],
   "source": [
    "#1) empty string\n",
    "\n",
    "#2) first i will grab the index at which character is there. start index\n",
    "\n",
    "#3) first i will grab the index at which last character is there. stop index\n",
    "\n",
    "#4) loop from start index till stop index and add the characters to the empty string declared"
   ]
  },
  {
   "cell_type": "code",
   "execution_count": 6,
   "metadata": {},
   "outputs": [
    {
     "name": "stdout",
     "output_type": "stream",
     "text": [
      "Input =       hello     \n",
      "Output =  hello\n",
      "length of output 5\n"
     ]
    }
   ],
   "source": [
    "str1 = '     hello     '\n",
    "str2 = ''\n",
    "\n",
    "start = 0\n",
    "stop = 0\n",
    "length = len(str1)\n",
    "\n",
    "#starting index\n",
    "index = 0\n",
    "while(index<length):\n",
    "    if(str1[index] != ' '):\n",
    "        start = index\n",
    "        break\n",
    "    index = index + 1\n",
    "\n",
    "#end index\n",
    "index = length - 1 #  14,13,12,12\n",
    "while (index>=0):\n",
    "    if(str1[index] != ' '):\n",
    "        stop = index\n",
    "        break\n",
    "    index = index - 1 # decrement\n",
    "\n",
    "count = start # 5\n",
    "while(count<=stop):\n",
    "    str2 = str2 + str1[count]\n",
    "    count = count+1\n",
    "    \n",
    "print('Input = ',str1)\n",
    "print('Output = ',str2)\n",
    "print('length of output',len(str2))"
   ]
  },
  {
   "cell_type": "markdown",
   "metadata": {},
   "source": [
    "#### Q4) WAP to count the number of words in a string"
   ]
  },
  {
   "cell_type": "code",
   "execution_count": 7,
   "metadata": {},
   "outputs": [],
   "source": [
    "str1 = 'Welcome to python'\n",
    "#words= spaces + 1\n",
    "length = len(str1)"
   ]
  },
  {
   "cell_type": "code",
   "execution_count": 8,
   "metadata": {},
   "outputs": [],
   "source": [
    "spaces = 0\n",
    "for ind in range(length-1):\n",
    "    if(str1[ind] == ' ' and str1[ind + 1] != ' '):\n",
    "        spaces = spaces + 1"
   ]
  },
  {
   "cell_type": "code",
   "execution_count": 9,
   "metadata": {},
   "outputs": [
    {
     "data": {
      "text/plain": [
       "3"
      ]
     },
     "execution_count": 9,
     "metadata": {},
     "output_type": "execute_result"
    }
   ],
   "source": [
    "words= spaces + 1\n",
    "words"
   ]
  },
  {
   "cell_type": "markdown",
   "metadata": {},
   "source": [
    "#### Q5) Given a string convert to list of words"
   ]
  },
  {
   "cell_type": "code",
   "execution_count": 10,
   "metadata": {},
   "outputs": [],
   "source": [
    "#input = 'Welcome to python'\n",
    "#output = ['Welcome','to','python']"
   ]
  },
  {
   "cell_type": "code",
   "execution_count": 11,
   "metadata": {},
   "outputs": [
    {
     "data": {
      "text/plain": [
       "'Welcome to python'"
      ]
     },
     "execution_count": 11,
     "metadata": {},
     "output_type": "execute_result"
    }
   ],
   "source": [
    "#list1 ['Welcome','to']\n",
    "# str2 = 'python'\n",
    "str1 = 'Welcome to python'\n",
    "str1"
   ]
  },
  {
   "cell_type": "code",
   "execution_count": 12,
   "metadata": {},
   "outputs": [],
   "source": [
    "#declare empty list\n",
    "list1 = []\n",
    "#declare empty string\n",
    "str2 = ''\n",
    "\n",
    "for char in str1:\n",
    "    if(char != ' '): #char is not space\n",
    "        str2 += char\n",
    "    else:#char is space\n",
    "        list1.append(str2)\n",
    "        str2 = ''"
   ]
  },
  {
   "cell_type": "code",
   "execution_count": 13,
   "metadata": {},
   "outputs": [],
   "source": [
    "#output = ['welcome','to','python']\n",
    "list1.append(str2)"
   ]
  },
  {
   "cell_type": "code",
   "execution_count": 14,
   "metadata": {},
   "outputs": [
    {
     "data": {
      "text/plain": [
       "['Welcome', 'to', 'python']"
      ]
     },
     "execution_count": 14,
     "metadata": {},
     "output_type": "execute_result"
    }
   ],
   "source": [
    "list1"
   ]
  }
 ],
 "metadata": {
  "kernelspec": {
   "display_name": "Python 3",
   "language": "python",
   "name": "python3"
  },
  "language_info": {
   "codemirror_mode": {
    "name": "ipython",
    "version": 3
   },
   "file_extension": ".py",
   "mimetype": "text/x-python",
   "name": "python",
   "nbconvert_exporter": "python",
   "pygments_lexer": "ipython3",
   "version": "3.7.6"
  }
 },
 "nbformat": 4,
 "nbformat_minor": 4
}
